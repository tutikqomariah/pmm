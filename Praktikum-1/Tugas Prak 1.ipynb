{
 "cells": [
  {
   "cell_type": "code",
   "execution_count": 6,
   "id": "68a9e165",
   "metadata": {},
   "outputs": [
    {
     "data": {
      "text/plain": [
       "5"
      ]
     },
     "execution_count": 6,
     "metadata": {},
     "output_type": "execute_result"
    }
   ],
   "source": [
    "import statistics\n",
    "P = [2,4,4,4,5,5,7,9]\n",
    "statistics.mean(P)"
   ]
  },
  {
   "cell_type": "code",
   "execution_count": 8,
   "id": "c7708d95",
   "metadata": {
    "scrolled": true
   },
   "outputs": [
    {
     "data": {
      "text/plain": [
       "5.0"
      ]
     },
     "execution_count": 8,
     "metadata": {},
     "output_type": "execute_result"
    }
   ],
   "source": [
    "import numpy as np\n",
    "Q = [2,4,4,4,5,5,7,9]\n",
    "np.mean(Q)"
   ]
  },
  {
   "cell_type": "code",
   "execution_count": 30,
   "id": "933d5bd8",
   "metadata": {},
   "outputs": [
    {
     "data": {
      "text/plain": [
       "4.5"
      ]
     },
     "execution_count": 30,
     "metadata": {},
     "output_type": "execute_result"
    }
   ],
   "source": [
    "import numpy as np\n",
    "A = [2,2,2,4,5,5,7,9]\n",
    "np.mean(A)"
   ]
  },
  {
   "cell_type": "code",
   "execution_count": 31,
   "id": "2dfc7911",
   "metadata": {},
   "outputs": [
    {
     "data": {
      "text/plain": [
       "9"
      ]
     },
     "execution_count": 31,
     "metadata": {},
     "output_type": "execute_result"
    }
   ],
   "source": [
    "import numpy as np\n",
    "A = [2,2,2,4,5,5,7,9]\n",
    "np.max(A)"
   ]
  },
  {
   "cell_type": "code",
   "execution_count": 32,
   "id": "960dfedb",
   "metadata": {},
   "outputs": [
    {
     "data": {
      "text/plain": [
       "2"
      ]
     },
     "execution_count": 32,
     "metadata": {},
     "output_type": "execute_result"
    }
   ],
   "source": [
    "import numpy as np\n",
    "A = [2,2,2,4,5,5,7,9]\n",
    "np.min(A)"
   ]
  },
  {
   "cell_type": "code",
   "execution_count": 33,
   "id": "87a2bbc1",
   "metadata": {},
   "outputs": [
    {
     "data": {
      "text/plain": [
       "4.0"
      ]
     },
     "execution_count": 33,
     "metadata": {},
     "output_type": "execute_result"
    }
   ],
   "source": [
    "import numpy as np\n",
    "Q = [2,4,4,4,5,5,7,9]\n",
    "np.percentile(P,25)"
   ]
  },
  {
   "cell_type": "code",
   "execution_count": 36,
   "id": "c23e55e6",
   "metadata": {},
   "outputs": [
    {
     "data": {
      "text/plain": [
       "4.5"
      ]
     },
     "execution_count": 36,
     "metadata": {},
     "output_type": "execute_result"
    }
   ],
   "source": [
    "import numpy as np\n",
    "Q = [2,4,4,4,5,5,7,9]\n",
    "np.percentile(P,50)"
   ]
  },
  {
   "cell_type": "code",
   "execution_count": 35,
   "id": "02a0c876",
   "metadata": {},
   "outputs": [
    {
     "data": {
      "text/plain": [
       "5.5"
      ]
     },
     "execution_count": 35,
     "metadata": {},
     "output_type": "execute_result"
    }
   ],
   "source": [
    "import numpy as np\n",
    "Q = [2,4,4,4,5,5,7,9]\n",
    "np.percentile(P,75)"
   ]
  },
  {
   "cell_type": "code",
   "execution_count": 37,
   "id": "2a027f17",
   "metadata": {},
   "outputs": [
    {
     "data": {
      "text/plain": [
       "array([[ 4.57142857,  6.85714286],\n",
       "       [ 6.85714286, 11.42857143]])"
      ]
     },
     "execution_count": 37,
     "metadata": {},
     "output_type": "execute_result"
    }
   ],
   "source": [
    "import numpy as np\n",
    "Q = [2,4,4,4,5,5,7,9]\n",
    "P = [10,13,15,14,13,16,18,21]\n",
    "np.cov(Q,P)"
   ]
  },
  {
   "cell_type": "code",
   "execution_count": 38,
   "id": "eda63b09",
   "metadata": {},
   "outputs": [
    {
     "data": {
      "text/plain": [
       "4.571428571428571"
      ]
     },
     "execution_count": 38,
     "metadata": {},
     "output_type": "execute_result"
    }
   ],
   "source": [
    "import numpy as np\n",
    "Q = [2,4,4,4,5,5,7,9]\n",
    "P = [10,13,15,14,13,16,18,21]\n",
    "np.cov(Q,P)[0,0]"
   ]
  },
  {
   "cell_type": "code",
   "execution_count": 39,
   "id": "5e6661a8",
   "metadata": {},
   "outputs": [
    {
     "data": {
      "text/plain": [
       "array([[1.       , 0.9486833],\n",
       "       [0.9486833, 1.       ]])"
      ]
     },
     "execution_count": 39,
     "metadata": {},
     "output_type": "execute_result"
    }
   ],
   "source": [
    "import numpy as np\n",
    "Q = [2,4,4,4,5,5,7,9]\n",
    "P = [10,13,15,14,13,16,18,21]\n",
    "np.corrcoef(Q,P)"
   ]
  },
  {
   "cell_type": "code",
   "execution_count": 46,
   "id": "ff7e0696",
   "metadata": {},
   "outputs": [
    {
     "data": {
      "image/png": "[encoded data removed]",
      "text/plain": [
       "<Figure size 432x288 with 1 Axes>"
      ]
     },
     "metadata": {
      "needs_background": "light"
     },
     "output_type": "display_data"
    }
   ],
   "source": [
    "import matplotlib.pyplot as plt\n",
    "P = [2,4,4,4,5,5,7,9]\n",
    "Q = [10,13,15,14,13,16,18,21]\n",
    "x = [1,2,3,4,5,6,7,8]\n",
    "plt.scatter(x,P,color='r',marker='D')\n",
    "plt.scatter(x,Q,color='b',marker='*')\n",
    "plt.title('Correlation beetween P and Q')\n",
    "plt.xlabel('Range')\n",
    "plt.ylabel('Value')\n",
    "plt.legend((P,Q), loc='lower right')\n",
    "plt.show()"
   ]
  },
  {
   "cell_type": "code",
   "execution_count": null,
   "id": "db87d1a5",
   "metadata": {},
   "outputs": [],
   "source": []
  },
  {
   "cell_type": "code",
   "execution_count": null,
   "id": "76951ebe",
   "metadata": {},
   "outputs": [],
   "source": []
  }
 ],
 "metadata": {
  "kernelspec": {
   "display_name": "Python 3",
   "language": "python",
   "name": "python3"
  },
  "language_info": {
   "codemirror_mode": {
    "name": "ipython",
    "version": 3
   },
   "file_extension": ".py",
   "mimetype": "text/x-python",
   "name": "python",
   "nbconvert_exporter": "python",
   "pygments_lexer": "ipython3",
   "version": "3.8.8"
  }
 },
 "nbformat": 4,
 "nbformat_minor": 5
}
